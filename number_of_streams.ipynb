{
  "nbformat": 4,
  "nbformat_minor": 0,
  "metadata": {
    "colab": {
      "name": "number_of_streams.ipynb",
      "provenance": [],
      "authorship_tag": "ABX9TyNMMez7J7Z4PYXjTJy+4o0F",
      "include_colab_link": true
    },
    "kernelspec": {
      "name": "python3",
      "display_name": "Python 3"
    },
    "language_info": {
      "name": "python"
    }
  },
  "cells": [
    {
      "cell_type": "markdown",
      "metadata": {
        "id": "view-in-github",
        "colab_type": "text"
      },
      "source": [
        "<a href=\"https://colab.research.google.com/github/chriscc447/orie3120_final/blob/main/number_of_streams.ipynb\" target=\"_parent\"><img src=\"https://colab.research.google.com/assets/colab-badge.svg\" alt=\"Open In Colab\"/></a>"
      ]
    },
    {
      "cell_type": "code",
      "metadata": {
        "id": "xywdjb4GJPyS"
      },
      "source": [
        "import pandas as pd\n",
        "import matplotlib.pyplot as plt"
      ],
      "execution_count": 1,
      "outputs": []
    },
    {
      "cell_type": "code",
      "metadata": {
        "id": "TlAbNhytJRJ7"
      },
      "source": [
        "df = pd.read_csv(\"dataset.csv\")"
      ],
      "execution_count": 2,
      "outputs": []
    },
    {
      "cell_type": "code",
      "metadata": {
        "colab": {
          "base_uri": "https://localhost:8080/",
          "height": 367
        },
        "id": "96aIzlUJKqrU",
        "outputId": "1d9ed691-3775-44d0-892e-7454fc48e0db"
      },
      "source": [
        "df.head()"
      ],
      "execution_count": 3,
      "outputs": [
        {
          "output_type": "execute_result",
          "data": {
            "text/html": [
              "<div>\n",
              "<style scoped>\n",
              "    .dataframe tbody tr th:only-of-type {\n",
              "        vertical-align: middle;\n",
              "    }\n",
              "\n",
              "    .dataframe tbody tr th {\n",
              "        vertical-align: top;\n",
              "    }\n",
              "\n",
              "    .dataframe thead th {\n",
              "        text-align: right;\n",
              "    }\n",
              "</style>\n",
              "<table border=\"1\" class=\"dataframe\">\n",
              "  <thead>\n",
              "    <tr style=\"text-align: right;\">\n",
              "      <th></th>\n",
              "      <th>rank</th>\n",
              "      <th>date</th>\n",
              "      <th>artist</th>\n",
              "      <th>title</th>\n",
              "      <th>streams</th>\n",
              "      <th>danceability</th>\n",
              "      <th>energy</th>\n",
              "      <th>key</th>\n",
              "      <th>loudness</th>\n",
              "      <th>mode</th>\n",
              "      <th>speechiness</th>\n",
              "      <th>acousticness</th>\n",
              "      <th>instrumentalness</th>\n",
              "      <th>liveness</th>\n",
              "      <th>valence</th>\n",
              "      <th>tempo</th>\n",
              "      <th>uri</th>\n",
              "      <th>duration_ms</th>\n",
              "      <th>time_signature</th>\n",
              "    </tr>\n",
              "  </thead>\n",
              "  <tbody>\n",
              "    <tr>\n",
              "      <th>0</th>\n",
              "      <td>1</td>\n",
              "      <td>2017-01-01</td>\n",
              "      <td>Migos</td>\n",
              "      <td>Bad and Boujee (feat. Lil Uzi Vert)</td>\n",
              "      <td>1371493</td>\n",
              "      <td>0.927</td>\n",
              "      <td>0.665</td>\n",
              "      <td>11.0</td>\n",
              "      <td>-5.313</td>\n",
              "      <td>1.0</td>\n",
              "      <td>0.2440</td>\n",
              "      <td>0.061</td>\n",
              "      <td>0.000000</td>\n",
              "      <td>0.123</td>\n",
              "      <td>0.175</td>\n",
              "      <td>127.076</td>\n",
              "      <td>spotify:track:4Km5HrUvYTaSUfiSGPJeQR</td>\n",
              "      <td>343150.0</td>\n",
              "      <td>4.0</td>\n",
              "    </tr>\n",
              "    <tr>\n",
              "      <th>1</th>\n",
              "      <td>2</td>\n",
              "      <td>2017-01-01</td>\n",
              "      <td>Drake</td>\n",
              "      <td>Fake Love</td>\n",
              "      <td>1180074</td>\n",
              "      <td>0.928</td>\n",
              "      <td>0.481</td>\n",
              "      <td>9.0</td>\n",
              "      <td>-9.350</td>\n",
              "      <td>0.0</td>\n",
              "      <td>0.2870</td>\n",
              "      <td>0.105</td>\n",
              "      <td>0.000000</td>\n",
              "      <td>0.176</td>\n",
              "      <td>0.613</td>\n",
              "      <td>134.007</td>\n",
              "      <td>spotify:track:343YBumqHu19cGoGARUTsd</td>\n",
              "      <td>210937.0</td>\n",
              "      <td>4.0</td>\n",
              "    </tr>\n",
              "    <tr>\n",
              "      <th>2</th>\n",
              "      <td>3</td>\n",
              "      <td>2017-01-01</td>\n",
              "      <td>The Weeknd</td>\n",
              "      <td>Starboy</td>\n",
              "      <td>1064351</td>\n",
              "      <td>0.679</td>\n",
              "      <td>0.587</td>\n",
              "      <td>7.0</td>\n",
              "      <td>-7.015</td>\n",
              "      <td>1.0</td>\n",
              "      <td>0.2760</td>\n",
              "      <td>0.141</td>\n",
              "      <td>0.000006</td>\n",
              "      <td>0.137</td>\n",
              "      <td>0.486</td>\n",
              "      <td>186.003</td>\n",
              "      <td>spotify:track:7MXVkk9YMctZqd1Srtv4MB</td>\n",
              "      <td>230453.0</td>\n",
              "      <td>4.0</td>\n",
              "    </tr>\n",
              "    <tr>\n",
              "      <th>3</th>\n",
              "      <td>4</td>\n",
              "      <td>2017-01-01</td>\n",
              "      <td>The Chainsmokers</td>\n",
              "      <td>Closer</td>\n",
              "      <td>1010492</td>\n",
              "      <td>0.748</td>\n",
              "      <td>0.524</td>\n",
              "      <td>8.0</td>\n",
              "      <td>-5.599</td>\n",
              "      <td>1.0</td>\n",
              "      <td>0.0338</td>\n",
              "      <td>0.414</td>\n",
              "      <td>0.000000</td>\n",
              "      <td>0.111</td>\n",
              "      <td>0.661</td>\n",
              "      <td>95.010</td>\n",
              "      <td>spotify:track:7BKLCZ1jbUBVqRi2FVlTVw</td>\n",
              "      <td>244960.0</td>\n",
              "      <td>4.0</td>\n",
              "    </tr>\n",
              "    <tr>\n",
              "      <th>4</th>\n",
              "      <td>5</td>\n",
              "      <td>2017-01-01</td>\n",
              "      <td>Rae Sremmurd</td>\n",
              "      <td>Black Beatles</td>\n",
              "      <td>874289</td>\n",
              "      <td>0.794</td>\n",
              "      <td>0.632</td>\n",
              "      <td>0.0</td>\n",
              "      <td>-6.163</td>\n",
              "      <td>1.0</td>\n",
              "      <td>0.0649</td>\n",
              "      <td>0.142</td>\n",
              "      <td>0.000000</td>\n",
              "      <td>0.128</td>\n",
              "      <td>0.355</td>\n",
              "      <td>145.926</td>\n",
              "      <td>spotify:track:6fujklziTHa8uoM5OQSfIo</td>\n",
              "      <td>291893.0</td>\n",
              "      <td>4.0</td>\n",
              "    </tr>\n",
              "  </tbody>\n",
              "</table>\n",
              "</div>"
            ],
            "text/plain": [
              "   rank        date  ... duration_ms time_signature\n",
              "0     1  2017-01-01  ...    343150.0            4.0\n",
              "1     2  2017-01-01  ...    210937.0            4.0\n",
              "2     3  2017-01-01  ...    230453.0            4.0\n",
              "3     4  2017-01-01  ...    244960.0            4.0\n",
              "4     5  2017-01-01  ...    291893.0            4.0\n",
              "\n",
              "[5 rows x 19 columns]"
            ]
          },
          "metadata": {
            "tags": []
          },
          "execution_count": 3
        }
      ]
    },
    {
      "cell_type": "code",
      "metadata": {
        "colab": {
          "base_uri": "https://localhost:8080/",
          "height": 312
        },
        "id": "DKx5bS-fRboT",
        "outputId": "516f5893-5cdd-49f8-d4df-e2c1bf4e82d0"
      },
      "source": [
        "#An inital Histogram view of all streams with duplicates\n",
        "plt.hist(df['streams'])\n",
        "plt.title('Histogram view of all streams with duplicates')\n",
        "plt.xlabel('Number of Streams(Millions)')\n",
        "plt.ylabel('Count')"
      ],
      "execution_count": 4,
      "outputs": [
        {
          "output_type": "execute_result",
          "data": {
            "text/plain": [
              "Text(0, 0.5, 'Count')"
            ]
          },
          "metadata": {
            "tags": []
          },
          "execution_count": 4
        },
        {
          "output_type": "display_data",
          "data": {
            "image/png": "[encoded data removed]",
            "text/plain": [
              "<Figure size 432x288 with 1 Axes>"
            ]
          },
          "metadata": {
            "tags": [],
            "needs_background": "light"
          }
        }
      ]
    },
    {
      "cell_type": "code",
      "metadata": {
        "colab": {
          "base_uri": "https://localhost:8080/",
          "height": 312
        },
        "id": "pP7ZPIjigmIA",
        "outputId": "4050ed8b-e482-45ae-f12a-f73ff50cf5d1"
      },
      "source": [
        "#Same histogram without duplicates\n",
        "df_col = ['artist','title','streams','uri']\n",
        "df_no_reps= df[df_col].copy().drop_duplicates(subset = 'uri')\n",
        "len(df_no_reps)\n",
        "plt.hist(df_no_reps['streams'])\n",
        "plt.title('Histogram view of all streams without duplicates')\n",
        "plt.xlabel('Number of Streams(Millions)')\n",
        "plt.ylabel('Count')"
      ],
      "execution_count": 5,
      "outputs": [
        {
          "output_type": "execute_result",
          "data": {
            "text/plain": [
              "Text(0, 0.5, 'Count')"
            ]
          },
          "metadata": {
            "tags": []
          },
          "execution_count": 5
        },
        {
          "output_type": "display_data",
          "data": {
            "image/png": "[encoded data removed]",
            "text/plain": [
              "<Figure size 432x288 with 1 Axes>"
            ]
          },
          "metadata": {
            "tags": [],
            "needs_background": "light"
          }
        }
      ]
    },
    {
      "cell_type": "code",
      "metadata": {
        "colab": {
          "base_uri": "https://localhost:8080/",
          "height": 197
        },
        "id": "DqmmQMvg1gZg",
        "outputId": "6e58fa12-d550-4f51-bf9c-ce7ccec76e0a"
      },
      "source": [
        "df_no_reps.sort_values(['streams']).head(5)"
      ],
      "execution_count": 6,
      "outputs": [
        {
          "output_type": "execute_result",
          "data": {
            "text/html": [
              "<div>\n",
              "<style scoped>\n",
              "    .dataframe tbody tr th:only-of-type {\n",
              "        vertical-align: middle;\n",
              "    }\n",
              "\n",
              "    .dataframe tbody tr th {\n",
              "        vertical-align: top;\n",
              "    }\n",
              "\n",
              "    .dataframe thead th {\n",
              "        text-align: right;\n",
              "    }\n",
              "</style>\n",
              "<table border=\"1\" class=\"dataframe\">\n",
              "  <thead>\n",
              "    <tr style=\"text-align: right;\">\n",
              "      <th></th>\n",
              "      <th>artist</th>\n",
              "      <th>title</th>\n",
              "      <th>streams</th>\n",
              "      <th>uri</th>\n",
              "    </tr>\n",
              "  </thead>\n",
              "  <tbody>\n",
              "    <tr>\n",
              "      <th>399</th>\n",
              "      <td>Bruno Mars</td>\n",
              "      <td>Versace on the Floor</td>\n",
              "      <td>122488</td>\n",
              "      <td>spotify:track:0kN8xEmgMW9mh7UmDYHlJP</td>\n",
              "    </tr>\n",
              "    <tr>\n",
              "      <th>398</th>\n",
              "      <td>Isaiah</td>\n",
              "      <td>It's Gotta Be You</td>\n",
              "      <td>123189</td>\n",
              "      <td>spotify:track:6cAKeFFYW2aClZSUyvqAEW</td>\n",
              "    </tr>\n",
              "    <tr>\n",
              "      <th>397</th>\n",
              "      <td>The Weeknd</td>\n",
              "      <td>Ordinary Life</td>\n",
              "      <td>123961</td>\n",
              "      <td>spotify:track:15k2nBQJ0teDmPZHrOXL2N</td>\n",
              "    </tr>\n",
              "    <tr>\n",
              "      <th>1599</th>\n",
              "      <td>Joey Bada$$</td>\n",
              "      <td>DEVASTATED</td>\n",
              "      <td>125530</td>\n",
              "      <td>spotify:track:4ntsD33Pgsgk8rUyZLLiUV</td>\n",
              "    </tr>\n",
              "    <tr>\n",
              "      <th>395</th>\n",
              "      <td>Rae Sremmurd</td>\n",
              "      <td>Look Alive</td>\n",
              "      <td>125802</td>\n",
              "      <td>spotify:track:2IGr3q6ljcpLvHDFLtI0yW</td>\n",
              "    </tr>\n",
              "  </tbody>\n",
              "</table>\n",
              "</div>"
            ],
            "text/plain": [
              "            artist  ...                                   uri\n",
              "399     Bruno Mars  ...  spotify:track:0kN8xEmgMW9mh7UmDYHlJP\n",
              "398         Isaiah  ...  spotify:track:6cAKeFFYW2aClZSUyvqAEW\n",
              "397     The Weeknd  ...  spotify:track:15k2nBQJ0teDmPZHrOXL2N\n",
              "1599   Joey Bada$$  ...  spotify:track:4ntsD33Pgsgk8rUyZLLiUV\n",
              "395   Rae Sremmurd  ...  spotify:track:2IGr3q6ljcpLvHDFLtI0yW\n",
              "\n",
              "[5 rows x 4 columns]"
            ]
          },
          "metadata": {
            "tags": []
          },
          "execution_count": 6
        }
      ]
    },
    {
      "cell_type": "code",
      "metadata": {
        "colab": {
          "base_uri": "https://localhost:8080/",
          "height": 197
        },
        "id": "NJcSdAKekLcN",
        "outputId": "bcb0248a-3710-4c11-d464-0026fbcd43e8"
      },
      "source": [
        "#does this take artists max?\n",
        "max_df= df.groupby('uri')['streams'].max().reset_index()\n",
        "uris_hold = df[['artist','title','uri']].copy().drop_duplicates(subset = 'uri').reset_index()\n",
        "max_df= max_df.merge(uris_hold, how=\"left\", on = 'uri')\n",
        "max_df.head()\n"
      ],
      "execution_count": 7,
      "outputs": [
        {
          "output_type": "execute_result",
          "data": {
            "text/html": [
              "<div>\n",
              "<style scoped>\n",
              "    .dataframe tbody tr th:only-of-type {\n",
              "        vertical-align: middle;\n",
              "    }\n",
              "\n",
              "    .dataframe tbody tr th {\n",
              "        vertical-align: top;\n",
              "    }\n",
              "\n",
              "    .dataframe thead th {\n",
              "        text-align: right;\n",
              "    }\n",
              "</style>\n",
              "<table border=\"1\" class=\"dataframe\">\n",
              "  <thead>\n",
              "    <tr style=\"text-align: right;\">\n",
              "      <th></th>\n",
              "      <th>uri</th>\n",
              "      <th>streams</th>\n",
              "      <th>index</th>\n",
              "      <th>artist</th>\n",
              "      <th>title</th>\n",
              "    </tr>\n",
              "  </thead>\n",
              "  <tbody>\n",
              "    <tr>\n",
              "      <th>0</th>\n",
              "      <td>spotify:track:000xQL6tZNLJzIrtIgxqSl</td>\n",
              "      <td>492315</td>\n",
              "      <td>16452</td>\n",
              "      <td>ZAYN</td>\n",
              "      <td>Still Got Time (feat. PARTYNEXTDOOR)</td>\n",
              "    </tr>\n",
              "    <tr>\n",
              "      <th>1</th>\n",
              "      <td>spotify:track:003VDDA7J3Xb2ZFlNx7nIZ</td>\n",
              "      <td>609856</td>\n",
              "      <td>225814</td>\n",
              "      <td>Trippie Redd</td>\n",
              "      <td>YELL OH</td>\n",
              "    </tr>\n",
              "    <tr>\n",
              "      <th>2</th>\n",
              "      <td>spotify:track:003eoIwxETJujVWmNFMoZy</td>\n",
              "      <td>439463</td>\n",
              "      <td>105440</td>\n",
              "      <td>Alessia Cara</td>\n",
              "      <td>Growing Pains</td>\n",
              "    </tr>\n",
              "    <tr>\n",
              "      <th>3</th>\n",
              "      <td>spotify:track:00B7TZ0Xawar6NZ00JFomN</td>\n",
              "      <td>818650</td>\n",
              "      <td>91411</td>\n",
              "      <td>Cardi B</td>\n",
              "      <td>Best Life (feat. Chance The Rapper)</td>\n",
              "    </tr>\n",
              "    <tr>\n",
              "      <th>4</th>\n",
              "      <td>spotify:track:00BNT97AtJ5aB8SSsE5xGH</td>\n",
              "      <td>368137</td>\n",
              "      <td>157294</td>\n",
              "      <td>2 Chainz</td>\n",
              "      <td>Threat 2 Society</td>\n",
              "    </tr>\n",
              "  </tbody>\n",
              "</table>\n",
              "</div>"
            ],
            "text/plain": [
              "                                    uri  ...                                 title\n",
              "0  spotify:track:000xQL6tZNLJzIrtIgxqSl  ...  Still Got Time (feat. PARTYNEXTDOOR)\n",
              "1  spotify:track:003VDDA7J3Xb2ZFlNx7nIZ  ...                               YELL OH\n",
              "2  spotify:track:003eoIwxETJujVWmNFMoZy  ...                         Growing Pains\n",
              "3  spotify:track:00B7TZ0Xawar6NZ00JFomN  ...   Best Life (feat. Chance The Rapper)\n",
              "4  spotify:track:00BNT97AtJ5aB8SSsE5xGH  ...                      Threat 2 Society\n",
              "\n",
              "[5 rows x 5 columns]"
            ]
          },
          "metadata": {
            "tags": []
          },
          "execution_count": 7
        }
      ]
    },
    {
      "cell_type": "code",
      "metadata": {
        "colab": {
          "base_uri": "https://localhost:8080/",
          "height": 312
        },
        "id": "LY6zqhYfFBVC",
        "outputId": "36518a2d-ed3a-4415-9af1-eae3e01c7596"
      },
      "source": [
        "plt.hist(max_df['streams'])\n",
        "plt.title('Histogram view of max streams of a song')\n",
        "plt.xlabel('Number of Streams(Millions)')\n",
        "plt.ylabel('Count')"
      ],
      "execution_count": 8,
      "outputs": [
        {
          "output_type": "execute_result",
          "data": {
            "text/plain": [
              "Text(0, 0.5, 'Count')"
            ]
          },
          "metadata": {
            "tags": []
          },
          "execution_count": 8
        },
        {
          "output_type": "display_data",
          "data": {
            "image/png": "[encoded data removed]",
            "text/plain": [
              "<Figure size 432x288 with 1 Axes>"
            ]
          },
          "metadata": {
            "tags": [],
            "needs_background": "light"
          }
        }
      ]
    },
    {
      "cell_type": "code",
      "metadata": {
        "colab": {
          "base_uri": "https://localhost:8080/",
          "height": 197
        },
        "id": "Y-4o2iBt1uOH",
        "outputId": "54a3c240-8130-46f7-d766-ef876dc0829d"
      },
      "source": [
        "#top 5 streams\n",
        "max_df.sort_values(['streams']).tail(5)"
      ],
      "execution_count": 9,
      "outputs": [
        {
          "output_type": "execute_result",
          "data": {
            "text/html": [
              "<div>\n",
              "<style scoped>\n",
              "    .dataframe tbody tr th:only-of-type {\n",
              "        vertical-align: middle;\n",
              "    }\n",
              "\n",
              "    .dataframe tbody tr th {\n",
              "        vertical-align: top;\n",
              "    }\n",
              "\n",
              "    .dataframe thead th {\n",
              "        text-align: right;\n",
              "    }\n",
              "</style>\n",
              "<table border=\"1\" class=\"dataframe\">\n",
              "  <thead>\n",
              "    <tr style=\"text-align: right;\">\n",
              "      <th></th>\n",
              "      <th>uri</th>\n",
              "      <th>streams</th>\n",
              "      <th>index</th>\n",
              "      <th>artist</th>\n",
              "      <th>title</th>\n",
              "    </tr>\n",
              "  </thead>\n",
              "  <tbody>\n",
              "    <tr>\n",
              "      <th>3860</th>\n",
              "      <td>spotify:track:6DCZcSspjsKoFjzjrWoCdn</td>\n",
              "      <td>4739798</td>\n",
              "      <td>76184</td>\n",
              "      <td>Drake</td>\n",
              "      <td>God's Plan</td>\n",
              "    </tr>\n",
              "    <tr>\n",
              "      <th>1396</th>\n",
              "      <td>spotify:track:2G7V7zsVDxg1yRsu7Ew9RJ</td>\n",
              "      <td>4805299</td>\n",
              "      <td>108198</td>\n",
              "      <td>Drake</td>\n",
              "      <td>In My Feelings</td>\n",
              "    </tr>\n",
              "    <tr>\n",
              "      <th>3381</th>\n",
              "      <td>spotify:track:5Psnhdkyanjpgc2P8A5TSM</td>\n",
              "      <td>4842941</td>\n",
              "      <td>108186</td>\n",
              "      <td>Drake</td>\n",
              "      <td>Emotionless</td>\n",
              "    </tr>\n",
              "    <tr>\n",
              "      <th>1854</th>\n",
              "      <td>spotify:track:2yg9UN4eo5eMVJ7OB4RWj3</td>\n",
              "      <td>5219711</td>\n",
              "      <td>108185</td>\n",
              "      <td>Drake</td>\n",
              "      <td>Survival</td>\n",
              "    </tr>\n",
              "    <tr>\n",
              "      <th>287</th>\n",
              "      <td>spotify:track:0TlLq3lA83rQOYtrqBqSct</td>\n",
              "      <td>5749019</td>\n",
              "      <td>108184</td>\n",
              "      <td>Drake</td>\n",
              "      <td>Nonstop</td>\n",
              "    </tr>\n",
              "  </tbody>\n",
              "</table>\n",
              "</div>"
            ],
            "text/plain": [
              "                                       uri  streams  ...  artist           title\n",
              "3860  spotify:track:6DCZcSspjsKoFjzjrWoCdn  4739798  ...   Drake      God's Plan\n",
              "1396  spotify:track:2G7V7zsVDxg1yRsu7Ew9RJ  4805299  ...   Drake  In My Feelings\n",
              "3381  spotify:track:5Psnhdkyanjpgc2P8A5TSM  4842941  ...   Drake     Emotionless\n",
              "1854  spotify:track:2yg9UN4eo5eMVJ7OB4RWj3  5219711  ...   Drake        Survival\n",
              "287   spotify:track:0TlLq3lA83rQOYtrqBqSct  5749019  ...   Drake         Nonstop\n",
              "\n",
              "[5 rows x 5 columns]"
            ]
          },
          "metadata": {
            "tags": []
          },
          "execution_count": 9
        }
      ]
    },
    {
      "cell_type": "code",
      "metadata": {
        "colab": {
          "base_uri": "https://localhost:8080/",
          "height": 197
        },
        "id": "1Qt-vcq5FNW3",
        "outputId": "40075030-1330-407d-dc9b-6ef3d20858af"
      },
      "source": [
        "#bot 5 streams\n",
        "max_df.sort_values(['streams']).head(5)"
      ],
      "execution_count": 10,
      "outputs": [
        {
          "output_type": "execute_result",
          "data": {
            "text/html": [
              "<div>\n",
              "<style scoped>\n",
              "    .dataframe tbody tr th:only-of-type {\n",
              "        vertical-align: middle;\n",
              "    }\n",
              "\n",
              "    .dataframe tbody tr th {\n",
              "        vertical-align: top;\n",
              "    }\n",
              "\n",
              "    .dataframe thead th {\n",
              "        text-align: right;\n",
              "    }\n",
              "</style>\n",
              "<table border=\"1\" class=\"dataframe\">\n",
              "  <thead>\n",
              "    <tr style=\"text-align: right;\">\n",
              "      <th></th>\n",
              "      <th>uri</th>\n",
              "      <th>streams</th>\n",
              "      <th>index</th>\n",
              "      <th>artist</th>\n",
              "      <th>title</th>\n",
              "    </tr>\n",
              "  </thead>\n",
              "  <tbody>\n",
              "    <tr>\n",
              "      <th>277</th>\n",
              "      <td>spotify:track:0SuG9kyzGRpDqrCWtgD6Lq</td>\n",
              "      <td>133040</td>\n",
              "      <td>1399</td>\n",
              "      <td>Ed Sheeran</td>\n",
              "      <td>Give Me Love</td>\n",
              "    </tr>\n",
              "    <tr>\n",
              "      <th>4209</th>\n",
              "      <td>spotify:track:6j0teRL3WdExzqmy334sh5</td>\n",
              "      <td>133605</td>\n",
              "      <td>1396</td>\n",
              "      <td>Lil Uzi Vert</td>\n",
              "      <td>Seven Million (feat. Future)</td>\n",
              "    </tr>\n",
              "    <tr>\n",
              "      <th>1399</th>\n",
              "      <td>spotify:track:2GGOQWJo7FGEQojc7baekK</td>\n",
              "      <td>134420</td>\n",
              "      <td>1392</td>\n",
              "      <td>Ed Sheeran</td>\n",
              "      <td>Don't</td>\n",
              "    </tr>\n",
              "    <tr>\n",
              "      <th>3007</th>\n",
              "      <td>spotify:track:4qqArAiTPueDxIp7cf87h7</td>\n",
              "      <td>139227</td>\n",
              "      <td>599</td>\n",
              "      <td>MØ</td>\n",
              "      <td>Final Song</td>\n",
              "    </tr>\n",
              "    <tr>\n",
              "      <th>1748</th>\n",
              "      <td>spotify:track:2nBI3iWLhupR7LyAJ5GGkE</td>\n",
              "      <td>141632</td>\n",
              "      <td>2797</td>\n",
              "      <td>Kanye West</td>\n",
              "      <td>Champions</td>\n",
              "    </tr>\n",
              "  </tbody>\n",
              "</table>\n",
              "</div>"
            ],
            "text/plain": [
              "                                       uri  ...                         title\n",
              "277   spotify:track:0SuG9kyzGRpDqrCWtgD6Lq  ...                  Give Me Love\n",
              "4209  spotify:track:6j0teRL3WdExzqmy334sh5  ...  Seven Million (feat. Future)\n",
              "1399  spotify:track:2GGOQWJo7FGEQojc7baekK  ...                         Don't\n",
              "3007  spotify:track:4qqArAiTPueDxIp7cf87h7  ...                    Final Song\n",
              "1748  spotify:track:2nBI3iWLhupR7LyAJ5GGkE  ...                     Champions\n",
              "\n",
              "[5 rows x 5 columns]"
            ]
          },
          "metadata": {
            "tags": []
          },
          "execution_count": 10
        }
      ]
    },
    {
      "cell_type": "code",
      "metadata": {
        "colab": {
          "base_uri": "https://localhost:8080/",
          "height": 312
        },
        "id": "uDwlsmJbR-IJ",
        "outputId": "dfc5a50e-3df7-4358-acba-442801e47d48"
      },
      "source": [
        "#Hist of Streams by Artist\n",
        "Art_df= df.groupby('artist')['streams'].max().reset_index()\n",
        "plt.title('Histogram view of streams by Artist')\n",
        "plt.hist(Art_df['streams'])\n",
        "plt.xlabel('Number of Streams(Millions)')\n",
        "plt.ylabel('Count')"
      ],
      "execution_count": 11,
      "outputs": [
        {
          "output_type": "execute_result",
          "data": {
            "text/plain": [
              "Text(0, 0.5, 'Count')"
            ]
          },
          "metadata": {
            "tags": []
          },
          "execution_count": 11
        },
        {
          "output_type": "display_data",
          "data": {
            "image/png": "[encoded data removed]",
            "text/plain": [
              "<Figure size 432x288 with 1 Axes>"
            ]
          },
          "metadata": {
            "tags": [],
            "needs_background": "light"
          }
        }
      ]
    },
    {
      "cell_type": "code",
      "metadata": {
        "colab": {
          "base_uri": "https://localhost:8080/",
          "height": 197
        },
        "id": "_dmeWTftFlrO",
        "outputId": "5357e709-e792-4fc7-8fa7-aa885bf4f878"
      },
      "source": [
        "# Bot 5 streams by artists\n",
        "Art_df.sort_values(['streams']).head(5)"
      ],
      "execution_count": 12,
      "outputs": [
        {
          "output_type": "execute_result",
          "data": {
            "text/html": [
              "<div>\n",
              "<style scoped>\n",
              "    .dataframe tbody tr th:only-of-type {\n",
              "        vertical-align: middle;\n",
              "    }\n",
              "\n",
              "    .dataframe tbody tr th {\n",
              "        vertical-align: top;\n",
              "    }\n",
              "\n",
              "    .dataframe thead th {\n",
              "        text-align: right;\n",
              "    }\n",
              "</style>\n",
              "<table border=\"1\" class=\"dataframe\">\n",
              "  <thead>\n",
              "    <tr style=\"text-align: right;\">\n",
              "      <th></th>\n",
              "      <th>artist</th>\n",
              "      <th>streams</th>\n",
              "    </tr>\n",
              "  </thead>\n",
              "  <tbody>\n",
              "    <tr>\n",
              "      <th>574</th>\n",
              "      <td>Phil Collins</td>\n",
              "      <td>143813</td>\n",
              "    </tr>\n",
              "    <tr>\n",
              "      <th>629</th>\n",
              "      <td>Sam Cooke</td>\n",
              "      <td>145484</td>\n",
              "    </tr>\n",
              "    <tr>\n",
              "      <th>49</th>\n",
              "      <td>August Alsina</td>\n",
              "      <td>149475</td>\n",
              "    </tr>\n",
              "    <tr>\n",
              "      <th>97</th>\n",
              "      <td>BobMcFerrin</td>\n",
              "      <td>151217</td>\n",
              "    </tr>\n",
              "    <tr>\n",
              "      <th>183</th>\n",
              "      <td>DeJ Loaf</td>\n",
              "      <td>152420</td>\n",
              "    </tr>\n",
              "  </tbody>\n",
              "</table>\n",
              "</div>"
            ],
            "text/plain": [
              "            artist  streams\n",
              "574   Phil Collins   143813\n",
              "629      Sam Cooke   145484\n",
              "49   August Alsina   149475\n",
              "97     BobMcFerrin   151217\n",
              "183       DeJ Loaf   152420"
            ]
          },
          "metadata": {
            "tags": []
          },
          "execution_count": 12
        }
      ]
    },
    {
      "cell_type": "code",
      "metadata": {
        "colab": {
          "base_uri": "https://localhost:8080/",
          "height": 197
        },
        "id": "tnN6N0U9Fcwn",
        "outputId": "cd4edbc6-956e-41e2-a7f5-cb34590e4fc4"
      },
      "source": [
        "# Top 5 streams by artists\n",
        "Art_df.sort_values(['streams']).tail(5)"
      ],
      "execution_count": 13,
      "outputs": [
        {
          "output_type": "execute_result",
          "data": {
            "text/html": [
              "<div>\n",
              "<style scoped>\n",
              "    .dataframe tbody tr th:only-of-type {\n",
              "        vertical-align: middle;\n",
              "    }\n",
              "\n",
              "    .dataframe tbody tr th {\n",
              "        vertical-align: top;\n",
              "    }\n",
              "\n",
              "    .dataframe thead th {\n",
              "        text-align: right;\n",
              "    }\n",
              "</style>\n",
              "<table border=\"1\" class=\"dataframe\">\n",
              "  <thead>\n",
              "    <tr style=\"text-align: right;\">\n",
              "      <th></th>\n",
              "      <th>artist</th>\n",
              "      <th>streams</th>\n",
              "    </tr>\n",
              "  </thead>\n",
              "  <tbody>\n",
              "    <tr>\n",
              "      <th>301</th>\n",
              "      <td>J. Cole</td>\n",
              "      <td>4233070</td>\n",
              "    </tr>\n",
              "    <tr>\n",
              "      <th>742</th>\n",
              "      <td>Travis Scott</td>\n",
              "      <td>4244308</td>\n",
              "    </tr>\n",
              "    <tr>\n",
              "      <th>776</th>\n",
              "      <td>XXXTENTACION</td>\n",
              "      <td>4437612</td>\n",
              "    </tr>\n",
              "    <tr>\n",
              "      <th>430</th>\n",
              "      <td>Lil Wayne</td>\n",
              "      <td>4444027</td>\n",
              "    </tr>\n",
              "    <tr>\n",
              "      <th>206</th>\n",
              "      <td>Drake</td>\n",
              "      <td>5749019</td>\n",
              "    </tr>\n",
              "  </tbody>\n",
              "</table>\n",
              "</div>"
            ],
            "text/plain": [
              "           artist  streams\n",
              "301       J. Cole  4233070\n",
              "742  Travis Scott  4244308\n",
              "776  XXXTENTACION  4437612\n",
              "430     Lil Wayne  4444027\n",
              "206         Drake  5749019"
            ]
          },
          "metadata": {
            "tags": []
          },
          "execution_count": 13
        }
      ]
    }
  ]
}